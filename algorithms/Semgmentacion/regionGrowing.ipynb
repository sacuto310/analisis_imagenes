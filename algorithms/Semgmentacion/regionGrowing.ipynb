{
 "cells": [
  {
   "cell_type": "code",
   "execution_count": 1,
   "metadata": {},
   "outputs": [],
   "source": [
    "import nibabel as nib\n",
    "import numpy as np\n",
    "import matplotlib.pyplot as plt\n",
    "\n",
    "image_data = nib.load('../images/FLAIR.nii.gz')\n",
    "image_data_seg = nib.load('../images/estandarizada_t1.nii.gz').get_fdata()\n",
    "image = image_data.get_fdata()"
   ]
  },
  {
   "cell_type": "code",
   "execution_count": 2,
   "metadata": {},
   "outputs": [],
   "source": [
    "def region_growing_image(image, x=100, y=100, z=20, tol=50):\n",
    "    segmentation = np.zeros_like(image)\n",
    "    if segmentation[x, y, z] == 1:\n",
    "        return segmentation\n",
    "    \n",
    "    valor_medio_cluster = image[x, y, z]\n",
    "    segmentation[x, y, z] = 1\n",
    "    vecinos = [(x, y, z)]\n",
    "    \n",
    "    while vecinos:\n",
    "        x, y, z = vecinos.pop()\n",
    "        \n",
    "        for dx in [-1, 0, 1]:\n",
    "            for dy in [-1, 0, 1]:\n",
    "                for dz in [-1, 0, 1]:\n",
    "                    # Obtener las coordenadas del vecino\n",
    "                    nx, ny, nz = x + dx, y + dy, z + dz\n",
    "                    \n",
    "                    # Comprobar que las coordenadas están dentro de los límites de la imagen\n",
    "                    if 0 <= nx < image.shape[0] and 0 <= ny < image.shape[1] and 0 <= nz < image.shape[2]:\n",
    "                        # Comprobar la condición de crecimiento de región\n",
    "                        if np.abs(valor_medio_cluster - image[nx, ny, nz]) < tol and segmentation[nx, ny, nz] == 0:\n",
    "                            segmentation[nx, ny, nz] = 1\n",
    "                            vecinos.append((nx, ny, nz))\n",
    "    \n",
    "    return segmentation"
   ]
  },
  {
   "cell_type": "code",
   "execution_count": 3,
   "metadata": {},
   "outputs": [],
   "source": [
    "segmentation = region_growing_image(image_data_seg)\n"
   ]
  },
  {
   "cell_type": "code",
   "execution_count": 4,
   "metadata": {},
   "outputs": [
    {
     "data": {
      "text/plain": [
       "<matplotlib.image.AxesImage at 0x2558acc3d10>"
      ]
     },
     "execution_count": 4,
     "metadata": {},
     "output_type": "execute_result"
    },
    {
     "data": {
      "image/png": "[encoded data removed]",
      "text/plain": [
       "<Figure size 640x480 with 1 Axes>"
      ]
     },
     "metadata": {},
     "output_type": "display_data"
    }
   ],
   "source": [
    "plt.imshow(segmentation[:, :, 20])"
   ]
  }
 ],
 "metadata": {
  "kernelspec": {
   "display_name": "env",
   "language": "python",
   "name": "python3"
  },
  "language_info": {
   "codemirror_mode": {
    "name": "ipython",
    "version": 3
   },
   "file_extension": ".py",
   "mimetype": "text/x-python",
   "name": "python",
   "nbconvert_exporter": "python",
   "pygments_lexer": "ipython3",
   "version": "3.11.3"
  },
  "orig_nbformat": 4
 },
 "nbformat": 4,
 "nbformat_minor": 2
}
